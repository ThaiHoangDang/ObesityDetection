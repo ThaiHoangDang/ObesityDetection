{
 "cells": [
  {
   "cell_type": "markdown",
   "metadata": {},
   "source": [
    "- Data processing\n",
    "- Feature Engineering\n",
    "- Model implementation\n",
    "- Analysis evaluation\n",
    "- instruction"
   ]
  }
 ],
 "metadata": {
  "language_info": {
   "name": "python"
  }
 },
 "nbformat": 4,
 "nbformat_minor": 2
}
