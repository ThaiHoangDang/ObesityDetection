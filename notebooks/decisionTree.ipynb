{
 "cells": [
  {
   "cell_type": "markdown",
   "metadata": {},
   "source": [
    "# Decision Tree Classifier"
   ]
  },
  {
   "cell_type": "code",
   "execution_count": 7,
   "metadata": {},
   "outputs": [],
   "source": [
    "import pandas as pd\n",
    "\n",
    "from sklearn.model_selection import train_test_split\n",
    "from sklearn.pipeline import Pipeline\n",
    "from sklearn.tree import DecisionTreeClassifier\n",
    "from sklearn.pipeline import Pipeline\n",
    "from sklearn.preprocessing import PolynomialFeatures, MinMaxScaler\n",
    "from sklearn.model_selection import GridSearchCV\n",
    "from sklearn.metrics import f1_score\n",
    "from sklearn.model_selection import train_test_split"
   ]
  },
  {
   "cell_type": "code",
   "execution_count": 8,
   "metadata": {},
   "outputs": [
    {
     "name": "stdout",
     "output_type": "stream",
     "text": [
      "Best parameters: {'classifier__max_depth': 10, 'classifier__max_leaf_nodes': 50, 'classifier__min_samples_leaf': 1, 'classifier__min_samples_split': 2}\n",
      "F1 Score: 0.8695585764472278\n"
     ]
    }
   ],
   "source": [
    "# Load and preprocess data\n",
    "from sklearn.model_selection import KFold\n",
    "\n",
    "\n",
    "health_data = pd.read_csv(\"../data/data_train.csv\", delimiter=\",\", index_col=\"Id\")\n",
    "health_data = health_data.drop_duplicates()\n",
    "selected_features = ['HighBP', 'HighChol', 'BMI',\n",
    "       'HeartDiseaseorAttack', 'PhysActivity', 'GenHlth', \n",
    "       'PhysHlth', 'DiffWalk', 'Age', 'Education', 'Income',\n",
    "       'ExtraMedTest', 'ExtraAlcoholTest']\n",
    "X = health_data[selected_features].copy()\n",
    "y = health_data.Status\n",
    "X_train, X_valid, y_train, y_valid = train_test_split(X, y, test_size=0.2, random_state=42)\n",
    "kf = KFold(n_splits=10, shuffle=True, random_state=0)\n",
    "\n",
    "# Define the pipeline with polynomial feature expansion\n",
    "pipeline = Pipeline([\n",
    "    # ('scaler', MinMaxScaler()),\n",
    "    ('classifier', DecisionTreeClassifier())\n",
    "])\n",
    "\n",
    "# Define the parameter grid\n",
    "param_grid = {\n",
    "    'classifier__max_depth': [None, 5, 8, 10, 20, 30],\n",
    "    'classifier__min_samples_split': [2, 5, 10],\n",
    "    'classifier__min_samples_leaf': [1, 2, 4],\n",
    "    'classifier__max_leaf_nodes': [None, 10, 50, 100],\n",
    "}\n",
    "\n",
    "# Create GridSearchCV\n",
    "grid_search = GridSearchCV(pipeline, param_grid, cv=kf, n_jobs=-1, scoring='f1')\n",
    "\n",
    "# Train the grid search\n",
    "grid_search.fit(X_train, y_train)\n",
    "\n",
    "# Print the best parameters found\n",
    "print(\"Best parameters:\", grid_search.best_params_)\n",
    "\n",
    "# Evaluate the best model on the validation set\n",
    "best_model = grid_search.best_estimator_\n",
    "y_pred = best_model.predict(X_valid)\n",
    "f1 = f1_score(y_valid, y_pred)\n",
    "print(\"F1 Score:\", f1)\n",
    "\n",
    "# Best parameters: {'classifier__max_depth': 10, 'classifier__max_leaf_nodes': 50, 'classifier__min_samples_leaf': 1, 'classifier__min_samples_split': 2}\n",
    "# F1 Score: 0.8695585764472278"
   ]
  }
 ],
 "metadata": {
  "kernelspec": {
   "display_name": "base",
   "language": "python",
   "name": "python3"
  },
  "language_info": {
   "codemirror_mode": {
    "name": "ipython",
    "version": 3
   },
   "file_extension": ".py",
   "mimetype": "text/x-python",
   "name": "python",
   "nbconvert_exporter": "python",
   "pygments_lexer": "ipython3",
   "version": "3.11.8"
  }
 },
 "nbformat": 4,
 "nbformat_minor": 2
}
