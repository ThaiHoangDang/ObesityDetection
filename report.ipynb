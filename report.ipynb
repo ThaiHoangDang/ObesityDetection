{
 "cells": [
  {
   "cell_type": "markdown",
   "metadata": {},
   "source": [
    "# Machine Learning - Assignment 1\n",
    "\n",
    "> Hoang Dang - s3927234\n",
    "\n",
    "<!-- ## Abstract -->\n",
    "\n",
    "<!-- In this assignment,  -->"
   ]
  },
  {
   "cell_type": "markdown",
   "metadata": {},
   "source": [
    "## Problem Formulation\n",
    "\n",
    "- Supervised\n",
    "- Multivariate logistic regression\n",
    "- Binary classification problem\n",
    "\n",
    "> Xem lại tut w2 và w3 để tham khảo"
   ]
  },
  {
   "cell_type": "markdown",
   "metadata": {},
   "source": [
    "## Exploratory Data Analysis (EDA)\n",
    "\n",
    "The following describes the dataset columns:\n",
    "\n",
    "| Attribute             | Description                                                                                                              |\n",
    "|-----------------------|--------------------------------------------------------------------------------------------------------------------------|\n",
    "| ID                    | Patient ID                                                                                                               |\n",
    "| Status                | 0 = no diabetes, 1 = prediabetes or diabetes                                                                             |\n",
    "| HighBP                | 0 = no high blood pressure, 1 = high blood pressure                                                                      |\n",
    "| HighChol              | 0 = no high cholesterol, 1 = high cholesterol                                                                            |\n",
    "| CholCheck             | 0 = no cholesterol check in 5 years, 1 = yes cholesterol check in 5 years                                                |\n",
    "| BMI                   | Body Mass Index                                                                                                          |\n",
    "| Smoker                | Have you smoked at least 100 cigarettes in your entire life? (0 = no, 1 = yes)                                           |\n",
    "| Stroke                | (Ever told) you had a stroke (0 = no, 1 = yes)                                                                          |\n",
    "| HeartDiseaseorAttack | Coronary heart disease (CHD) or myocardial infarction (MI) (0 = no, 1 = yes)                                             |\n",
    "| PhysActivity          | Physical activity in the past 30 days (not including job) (0 = no, 1 = yes)                                               |\n",
    "| Fruits                | Consume fruit 1 or more times per day (0 = no, 1 = yes)                                                                 |\n",
    "| Veggies               | Consume vegetables 1 or more times per day (0 = no, 1 = yes)                                                            |\n",
    "| HvyAlcoholConsump     | Heavy drinkers (adult men having more than 14 drinks per week and adult women having more than 7 drinks per week) (0 = no, 1 = yes) |\n",
    "| AnyHealthcare         | Have any kind of health care coverage, including health insurance, prepaid plans such as HMO, etc. (0 = no, 1 = yes)   |\n",
    "| NoDocbcCost           | Was there a time in the past 12 months when you needed to see a doctor but could not because of cost? (0 = no, 1 = yes)|\n",
    "| GenHlth               | Would you say that in general your health is (scale 1-5): 1 = excellent, 2 = very good, 3 = good, 4 = fair, 5 = poor     |\n",
    "| MentHlth              | Now thinking about your mental health, which includes stress, depression, and problems with emotions, for how many days during the past 30 days was your mental health not good? (scale 1-30 days) |\n",
    "| PhysHlth              | Now thinking about your physical health, which includes physical illness and injury, for how many days during the past 30 days was your physical health not good? (scale 1-30 days) |\n",
    "| DiffWalk              | Do you have serious difficulty walking or climbing stairs? (0 = no, 1 = yes)                                            |\n",
    "| Sex                   | Sex (0 = female, 1 = male)                                                                                              |\n",
    "| Age                   | 13-level age category: 1 = 18-24, 9 = 60-64, 13 = 80 or older                                                            |\n",
    "| Education             | Education level (scale 1-6): 1 = Never attended school or only kindergarten, 2 = Grades 1 through 8 (Elementary), 3 = Grades 9 through 11 (Some high school), 4 = Grade 12 or GED (High school graduate), 5 = College 1 year to 3 years (Some college or technical school), 6 = College 4 years or more (College graduate) |\n",
    "| Income                | Income scale (scale 1-8): 1 = less than $10,000, 5 = less than $35,000, 8 = $75,000 or more                             |\n",
    "| ExtraMedTest          | The result of an extra medical test, range (-100, 100)                                                                  |\n",
    "| ExtraAlcoholTest      | The result of an extra alcohol test, range (-100, 100)                                                                  |\n",
    "\n",
    "\n",
    "- The target variable is \"Status,\" which indicates the presence or absence of diabetes. It's a binary classification problem (0 = no diabetes, 1 = prediabetes or diabetes).\n",
    "\n",
    "---\n",
    "\n",
    "- Perform thorough exploratory data analysis to understand the distribution of features, identify correlations, and visualize patterns in the dataset\n",
    "\n",
    "- Handle missing values, outliers, and perform necessary data preprocessing steps\n",
    "\n",
    "\n",
    "https://www.itl.nist.gov/div898/handbook/eda/section1/eda11.htm\n",
    "\n",
    "\n",
    "- Có cần check duplicated data?\n",
    "\n"
   ]
  },
  {
   "cell_type": "markdown",
   "metadata": {},
   "source": [
    "## Model Proposal\n",
    "\n",
    "- Propose at least three different machine learning models suitable for predicting the status of diabetes development in patients (only use techniques taught in class up to week 5 - inclusive)\n",
    "\n",
    "- Justify the selection of each model based on its strengths, weaknesses, and suitability for the task\n",
    "\n",
    "\n",
    "## Model Implementation\n",
    "\n",
    "- Implement the proposed machine learning models using appropriate libraries (e.g scikit-learn, TensorFlow, Keras, etc.).\n",
    "\n",
    "- Fine-tune hyperparameters using cross-validation techniques to optimize model performance\n",
    "\n",
    "\n",
    "## Model Evaluataion\n",
    "\n",
    "Submit the prediction for patients in a given test set whose dependent variable (i.e., the presence or absence of diabetes) is hidden\n",
    "\n",
    "\n",
    "## Discussion and Conclusion\n",
    "\n",
    "- Provide a detailed discussion on the effectiveness of different machine learning models for diabetes prediction.\n",
    "\n",
    "- Discuss the implications of the findings and potential applications of the predictive models in healthcare settings.\n",
    "\n",
    "- Highlight areas for future research or improvements in predictive modeling for diabetes"
   ]
  }
 ],
 "metadata": {
  "language_info": {
   "name": "python"
  }
 },
 "nbformat": 4,
 "nbformat_minor": 2
}
