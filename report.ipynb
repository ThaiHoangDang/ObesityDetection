{
 "cells": [
  {
   "cell_type": "markdown",
   "metadata": {},
   "source": [
    "# Machine Learning - Assignment 1\n",
    "\n",
    "> Hoang Dang (s3927234)\n",
    "\n",
    "<!-- ## Abstract -->\n",
    "\n",
    "<!-- In this assignment,  -->\n",
    "\n",
    "## Exploratory Data Analysis (EDA)\n",
    "\n",
    "- Perform thorough exploratory data analysis to understand the distribution of features, identify correlations, and visualize patterns in the dataset\n",
    "\n",
    "- Handle missing values, outliers, and perform necessary data preprocessing steps\n",
    "\n",
    "\n",
    "https://www.itl.nist.gov/div898/handbook/eda/section1/eda11.htm\n",
    "- maximize insight into a data set;\n",
    "- uncover underlying structure;\n",
    "- extract important variables;\n",
    "- detect outliers and anomalies;\n",
    "- test underlying assumptions;\n",
    "- develop parsimonious models; and\n",
    "- determine optimal factor settings.\n",
    "\n",
    "\n",
    "- Non missing value\n",
    "\n",
    "\n",
    "## Model Proposal\n",
    "\n",
    "- Propose at least three different machine learning models suitable for predicting the status of diabetes development in patients (only use techniques taught in class up to week 5 - inclusive)\n",
    "\n",
    "- Justify the selection of each model based on its strengths, weaknesses, and suitability for the task\n",
    "\n",
    "\n",
    "## Model Implementation\n",
    "\n",
    "- Implement the proposed machine learning models using appropriate libraries (e.g scikit-learn, TensorFlow, Keras, etc.).\n",
    "\n",
    "- Fine-tune hyperparameters using cross-validation techniques to optimize model performance\n",
    "\n",
    "\n",
    "## Model Evaluataion\n",
    "\n",
    "Submit the prediction for patients in a given test set whose dependent variable (i.e., the presence or absence of diabetes) is hidden\n",
    "\n",
    "\n",
    "## Discussion and Conclusion\n",
    "\n",
    "- Provide a detailed discussion on the effectiveness of different machine learning models for diabetes prediction.\n",
    "\n",
    "- Discuss the implications of the findings and potential applications of the predictive models in healthcare settings.\n",
    "\n",
    "- Highlight areas for future research or improvements in predictive modeling for diabetes"
   ]
  },
  {
   "cell_type": "markdown",
   "metadata": {},
   "source": []
  }
 ],
 "metadata": {
  "language_info": {
   "name": "python"
  }
 },
 "nbformat": 4,
 "nbformat_minor": 2
}
